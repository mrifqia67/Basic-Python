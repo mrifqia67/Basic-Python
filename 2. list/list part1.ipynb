{
 "cells": [
  {
   "cell_type": "markdown",
   "id": "5a4c2a72",
   "metadata": {},
   "source": [
    "### part 1"
   ]
  },
  {
   "cell_type": "markdown",
   "id": "2ca313f9",
   "metadata": {},
   "source": [
    "kalau kemarin kita bermain - main dengan dataframe, sekarang akan bermain dengan list. Yup, list ini sering banget digunain juga dalam analisis data. mungkin saya sharing materi mengenai listnya hanya sedikit saja"
   ]
  },
  {
   "cell_type": "code",
   "execution_count": 6,
   "id": "7b4f4ff5",
   "metadata": {},
   "outputs": [
    {
     "name": "stdout",
     "output_type": "stream",
     "text": [
      "['saya', 'suka', 'buah', 'apel']\n",
      "<class 'list'>\n",
      "4\n"
     ]
    }
   ],
   "source": [
    "list1 = ['saya' , 'suka', 'buah', 'apel']\n",
    "\n",
    "print(list1)\n",
    "print(type(list1))\n",
    "print(len(list1))"
   ]
  },
  {
   "cell_type": "markdown",
   "id": "7643b6b7",
   "metadata": {},
   "source": [
    "list tersebut memiliki 4 elemen data, yang dimulai dengan index 0"
   ]
  },
  {
   "cell_type": "code",
   "execution_count": 7,
   "id": "595afa79",
   "metadata": {},
   "outputs": [
    {
     "name": "stdout",
     "output_type": "stream",
     "text": [
      "buah\n"
     ]
    }
   ],
   "source": [
    "# misal data ke-3, maka untuk mengambil datanya menggunakan indeks ke-2\n",
    "print(list1[2])"
   ]
  },
  {
   "cell_type": "markdown",
   "id": "eb2a6565",
   "metadata": {},
   "source": [
    "untuk mengganti elemen/data pada list, dapat menggunakan cara berikut :"
   ]
  },
  {
   "cell_type": "code",
   "execution_count": 8,
   "id": "8b071c0a",
   "metadata": {},
   "outputs": [
    {
     "name": "stdout",
     "output_type": "stream",
     "text": [
      "['saya', 'suka', 'buah', 'manggis']\n"
     ]
    }
   ],
   "source": [
    "list1[3] = 'manggis'\n",
    "print(list1)"
   ]
  },
  {
   "cell_type": "markdown",
   "id": "12c913d2",
   "metadata": {},
   "source": [
    "antara list 1 dan yang lainnya dapat dijumlahkan atau digabungkan, seperti berikut :"
   ]
  },
  {
   "cell_type": "code",
   "execution_count": 13,
   "id": "f60c1951",
   "metadata": {},
   "outputs": [
    {
     "name": "stdout",
     "output_type": "stream",
     "text": [
      "['saya', 'suka', 'buah', 'manggis', 'adik', 'suka', 'buah', 'pisang']\n"
     ]
    }
   ],
   "source": [
    "list2 = ['adik', 'suka', 'buah', 'pisang']\n",
    "\n",
    "print(list1 + list2)"
   ]
  },
  {
   "cell_type": "code",
   "execution_count": null,
   "id": "01b3f8ee",
   "metadata": {},
   "outputs": [],
   "source": []
  }
 ],
 "metadata": {
  "kernelspec": {
   "display_name": "Python 3",
   "language": "python",
   "name": "python3"
  },
  "language_info": {
   "codemirror_mode": {
    "name": "ipython",
    "version": 3
   },
   "file_extension": ".py",
   "mimetype": "text/x-python",
   "name": "python",
   "nbconvert_exporter": "python",
   "pygments_lexer": "ipython3",
   "version": "3.8.8"
  }
 },
 "nbformat": 4,
 "nbformat_minor": 5
}
