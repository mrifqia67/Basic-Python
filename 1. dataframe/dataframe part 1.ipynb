{
 "cells": [
  {
   "cell_type": "markdown",
   "id": "546cd541",
   "metadata": {},
   "source": [
    "Haaii, pada kesempatan kali ini, saya akan share sedikit ilmu pengetahuan mengenai dataframe. kenapa harus dataframe ? karena menurut saya, format dataframe ini paling mudah dimengerti dibanding format lainnya untuk melakukan kegiatan analisis data, seperti membuat visualisasi, dan lain sebagainya. oke kita langsung saja mulai.."
   ]
  },
  {
   "cell_type": "markdown",
   "id": "50164588",
   "metadata": {},
   "source": [
    "## 1. membuat dataframe"
   ]
  },
  {
   "cell_type": "markdown",
   "id": "d917b57b",
   "metadata": {},
   "source": [
    "sebelum membuat dataframe, pastikan dulu untuk memanggil library pandasnya yak.. untuk membuat dataframe, formatnya cukup mudah"
   ]
  },
  {
   "cell_type": "code",
   "execution_count": 1,
   "id": "52e6e610",
   "metadata": {},
   "outputs": [],
   "source": [
    "import pandas as pd"
   ]
  },
  {
   "cell_type": "code",
   "execution_count": null,
   "id": "3efdd046",
   "metadata": {},
   "outputs": [],
   "source": [
    "'''\n",
    "df = pd.DataFrame({'nama_kolom_1' : datanya\n",
    "                   'nama_kolom_2' : datanya\n",
    "                   'nama_kolom_n' : datanya})\n",
    "'''          "
   ]
  },
  {
   "cell_type": "markdown",
   "id": "ece83e15",
   "metadata": {},
   "source": [
    "data yang dibutuhkan untuk kolom dataframe dapat berupa format data list"
   ]
  },
  {
   "cell_type": "code",
   "execution_count": 8,
   "id": "de087677",
   "metadata": {},
   "outputs": [
    {
     "data": {
      "text/html": [
       "<div>\n",
       "<style scoped>\n",
       "    .dataframe tbody tr th:only-of-type {\n",
       "        vertical-align: middle;\n",
       "    }\n",
       "\n",
       "    .dataframe tbody tr th {\n",
       "        vertical-align: top;\n",
       "    }\n",
       "\n",
       "    .dataframe thead th {\n",
       "        text-align: right;\n",
       "    }\n",
       "</style>\n",
       "<table border=\"1\" class=\"dataframe\">\n",
       "  <thead>\n",
       "    <tr style=\"text-align: right;\">\n",
       "      <th></th>\n",
       "      <th>nama_siswa</th>\n",
       "      <th>mata_kuliah</th>\n",
       "      <th>nilai</th>\n",
       "    </tr>\n",
       "  </thead>\n",
       "  <tbody>\n",
       "    <tr>\n",
       "      <th>0</th>\n",
       "      <td>andi</td>\n",
       "      <td>statistika</td>\n",
       "      <td>90</td>\n",
       "    </tr>\n",
       "    <tr>\n",
       "      <th>1</th>\n",
       "      <td>citra</td>\n",
       "      <td>statistika</td>\n",
       "      <td>80</td>\n",
       "    </tr>\n",
       "    <tr>\n",
       "      <th>2</th>\n",
       "      <td>baayu</td>\n",
       "      <td>statistika</td>\n",
       "      <td>60</td>\n",
       "    </tr>\n",
       "    <tr>\n",
       "      <th>3</th>\n",
       "      <td>jack</td>\n",
       "      <td>statistika</td>\n",
       "      <td>68</td>\n",
       "    </tr>\n",
       "    <tr>\n",
       "      <th>4</th>\n",
       "      <td>gilbert</td>\n",
       "      <td>statistika</td>\n",
       "      <td>84</td>\n",
       "    </tr>\n",
       "    <tr>\n",
       "      <th>5</th>\n",
       "      <td>stefa</td>\n",
       "      <td>statistika</td>\n",
       "      <td>86</td>\n",
       "    </tr>\n",
       "    <tr>\n",
       "      <th>6</th>\n",
       "      <td>rei</td>\n",
       "      <td>statistika</td>\n",
       "      <td>98</td>\n",
       "    </tr>\n",
       "    <tr>\n",
       "      <th>7</th>\n",
       "      <td>baim</td>\n",
       "      <td>statistika</td>\n",
       "      <td>100</td>\n",
       "    </tr>\n",
       "    <tr>\n",
       "      <th>8</th>\n",
       "      <td>intan</td>\n",
       "      <td>statistika</td>\n",
       "      <td>85</td>\n",
       "    </tr>\n",
       "    <tr>\n",
       "      <th>9</th>\n",
       "      <td>melati</td>\n",
       "      <td>statistika</td>\n",
       "      <td>98</td>\n",
       "    </tr>\n",
       "  </tbody>\n",
       "</table>\n",
       "</div>"
      ],
      "text/plain": [
       "  nama_siswa mata_kuliah  nilai\n",
       "0       andi  statistika     90\n",
       "1      citra  statistika     80\n",
       "2      baayu  statistika     60\n",
       "3       jack  statistika     68\n",
       "4    gilbert  statistika     84\n",
       "5      stefa  statistika     86\n",
       "6        rei  statistika     98\n",
       "7       baim  statistika    100\n",
       "8      intan  statistika     85\n",
       "9     melati  statistika     98"
      ]
     },
     "metadata": {},
     "output_type": "display_data"
    }
   ],
   "source": [
    "# contoh\n",
    "df = pd.DataFrame({'nama_siswa' : ['andi','citra','baayu','jack','gilbert',\n",
    "                                   'stefa','rei','baim','intan','melati'],\n",
    "                   'mata_kuliah': ['statistika']*10,\n",
    "                   'nilai' : [90,80,60,68,84,\n",
    "                              86,98,100,85,98]})\n",
    "display(df)"
   ]
  },
  {
   "cell_type": "markdown",
   "id": "c96393bd",
   "metadata": {},
   "source": [
    "untuk dataframe pada python, index barisnya dimulai dari 0, jadi untuk keseluruhan barisnya adalah **n + 1**, apabila pada baris akhirnya menunjukkan angka 9, maka total barisnya adalah 10"
   ]
  },
  {
   "cell_type": "markdown",
   "id": "efa61705",
   "metadata": {},
   "source": [
    "misalkan, ternyata nilai jack salah input, seharusnya nilai dia adalah 82, maka untuk mengganti nilainya dapat dilakukan dengan method .replace, yaitu :"
   ]
  },
  {
   "cell_type": "code",
   "execution_count": 19,
   "id": "3c3a85c2",
   "metadata": {},
   "outputs": [
    {
     "data": {
      "text/html": [
       "<div>\n",
       "<style scoped>\n",
       "    .dataframe tbody tr th:only-of-type {\n",
       "        vertical-align: middle;\n",
       "    }\n",
       "\n",
       "    .dataframe tbody tr th {\n",
       "        vertical-align: top;\n",
       "    }\n",
       "\n",
       "    .dataframe thead th {\n",
       "        text-align: right;\n",
       "    }\n",
       "</style>\n",
       "<table border=\"1\" class=\"dataframe\">\n",
       "  <thead>\n",
       "    <tr style=\"text-align: right;\">\n",
       "      <th></th>\n",
       "      <th>nama_siswa</th>\n",
       "      <th>mata_kuliah</th>\n",
       "      <th>nilai</th>\n",
       "    </tr>\n",
       "  </thead>\n",
       "  <tbody>\n",
       "    <tr>\n",
       "      <th>0</th>\n",
       "      <td>andi</td>\n",
       "      <td>statistika</td>\n",
       "      <td>90</td>\n",
       "    </tr>\n",
       "    <tr>\n",
       "      <th>1</th>\n",
       "      <td>citra</td>\n",
       "      <td>statistika</td>\n",
       "      <td>80</td>\n",
       "    </tr>\n",
       "    <tr>\n",
       "      <th>2</th>\n",
       "      <td>baayu</td>\n",
       "      <td>statistika</td>\n",
       "      <td>60</td>\n",
       "    </tr>\n",
       "    <tr>\n",
       "      <th>3</th>\n",
       "      <td>jack</td>\n",
       "      <td>statistika</td>\n",
       "      <td>82</td>\n",
       "    </tr>\n",
       "    <tr>\n",
       "      <th>4</th>\n",
       "      <td>gilbert</td>\n",
       "      <td>statistika</td>\n",
       "      <td>84</td>\n",
       "    </tr>\n",
       "    <tr>\n",
       "      <th>5</th>\n",
       "      <td>stefa</td>\n",
       "      <td>statistika</td>\n",
       "      <td>86</td>\n",
       "    </tr>\n",
       "    <tr>\n",
       "      <th>6</th>\n",
       "      <td>rei</td>\n",
       "      <td>statistika</td>\n",
       "      <td>98</td>\n",
       "    </tr>\n",
       "    <tr>\n",
       "      <th>7</th>\n",
       "      <td>baim</td>\n",
       "      <td>statistika</td>\n",
       "      <td>100</td>\n",
       "    </tr>\n",
       "    <tr>\n",
       "      <th>8</th>\n",
       "      <td>intan</td>\n",
       "      <td>statistika</td>\n",
       "      <td>85</td>\n",
       "    </tr>\n",
       "    <tr>\n",
       "      <th>9</th>\n",
       "      <td>melati</td>\n",
       "      <td>statistika</td>\n",
       "      <td>98</td>\n",
       "    </tr>\n",
       "  </tbody>\n",
       "</table>\n",
       "</div>"
      ],
      "text/plain": [
       "  nama_siswa mata_kuliah  nilai\n",
       "0       andi  statistika     90\n",
       "1      citra  statistika     80\n",
       "2      baayu  statistika     60\n",
       "3       jack  statistika     82\n",
       "4    gilbert  statistika     84\n",
       "5      stefa  statistika     86\n",
       "6        rei  statistika     98\n",
       "7       baim  statistika    100\n",
       "8      intan  statistika     85\n",
       "9     melati  statistika     98"
      ]
     },
     "metadata": {},
     "output_type": "display_data"
    }
   ],
   "source": [
    "df['nilai'] = df['nilai'].replace(['68'],'82')\n",
    "\n",
    "display(df)"
   ]
  },
  {
   "cell_type": "markdown",
   "id": "002528c8",
   "metadata": {},
   "source": [
    "method lainnya pada dataframe dapat dilihat pada link [berikut](https://pandas.pydata.org/docs/reference/api/pandas.DataFrame.html)"
   ]
  },
  {
   "cell_type": "code",
   "execution_count": null,
   "id": "f8582419",
   "metadata": {},
   "outputs": [],
   "source": []
  },
  {
   "cell_type": "code",
   "execution_count": null,
   "id": "332c543e",
   "metadata": {},
   "outputs": [],
   "source": []
  }
 ],
 "metadata": {
  "kernelspec": {
   "display_name": "Python 3",
   "language": "python",
   "name": "python3"
  },
  "language_info": {
   "codemirror_mode": {
    "name": "ipython",
    "version": 3
   },
   "file_extension": ".py",
   "mimetype": "text/x-python",
   "name": "python",
   "nbconvert_exporter": "python",
   "pygments_lexer": "ipython3",
   "version": "3.8.8"
  }
 },
 "nbformat": 4,
 "nbformat_minor": 5
}
