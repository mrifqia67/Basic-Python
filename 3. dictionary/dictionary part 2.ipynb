{
 "cells": [
  {
   "cell_type": "markdown",
   "id": "81d7d363",
   "metadata": {},
   "source": [
    "yoo, setelah sharing mengenai dataframe dan list, selanjutnya saya akan sharing mengenai dictionary. seperti namanya, dalam dictionary terdapat yang namanya key dan value, biasanya bentuknya seperti ini **{'key' : 'value'}**. dictionary sering dijumpai dalam file json, apa itu file json ? materinya bisa kalian baca [disini](https://towardsdatascience.com/json-objects-in-python-f45e04281c30). oke kita langsung mulai saja"
   ]
  },
  {
   "cell_type": "markdown",
   "id": "e2502732",
   "metadata": {},
   "source": [
    "## part 1"
   ]
  },
  {
   "cell_type": "code",
   "execution_count": 8,
   "id": "f2ceb171",
   "metadata": {},
   "outputs": [
    {
     "data": {
      "text/plain": [
       "{'album_title': 'Yellow Submarine',\n",
       " 'release_year': 1966,\n",
       " 'won_grammy': False,\n",
       " 'band': 'The Beatles',\n",
       " 'album_sale': 'Null',\n",
       " 'musicians': ['John Lennon',\n",
       "  'Paul McCartney',\n",
       "  'George   Harrison',\n",
       "  'Ringo Starr'],\n",
       " 'studio': {'studio_name': 'Abbey Road Studios',\n",
       "  'location': 'London, England'}}"
      ]
     },
     "metadata": {},
     "output_type": "display_data"
    },
    {
     "name": "stdout",
     "output_type": "stream",
     "text": [
      "<class 'dict'>\n"
     ]
    }
   ],
   "source": [
    "# contoh cara membuat dictionary\n",
    "dict1 = {\n",
    "     \"album_title\" : \"Yellow Submarine\",     \n",
    "     \"release_year\" : 1966,   \n",
    "     \"won_grammy\" : False,\n",
    "     \"band\" : \"The Beatles\",\n",
    "     \"album_sale\": 'Null',\n",
    "     \"musicians\" : [\"John Lennon\", \"Paul McCartney\", \"George   Harrison\", \"Ringo Starr\"],\n",
    "     \"studio\" : {\"studio_name\": \"Abbey Road Studios\", \"location\": \"London, England\"}}\n",
    "\n",
    "display(dict1)\n",
    "print(type(dict1))"
   ]
  },
  {
   "cell_type": "markdown",
   "id": "eee320d9",
   "metadata": {},
   "source": [
    "untuk mengambil key pada dictionary, dapat dilakukan sebagai berikut :"
   ]
  },
  {
   "cell_type": "code",
   "execution_count": 10,
   "id": "f52d59b3",
   "metadata": {},
   "outputs": [
    {
     "name": "stdout",
     "output_type": "stream",
     "text": [
      "dict_keys(['album_title', 'release_year', 'won_grammy', 'band', 'album_sale', 'musicians', 'studio'])\n"
     ]
    }
   ],
   "source": [
    "print(dict1.keys())"
   ]
  },
  {
   "cell_type": "markdown",
   "id": "d69ee69a",
   "metadata": {},
   "source": [
    "dan untuk mengambil nilai valuenya, dapat dilakukan sebagai berikut :"
   ]
  },
  {
   "cell_type": "code",
   "execution_count": 11,
   "id": "07898cac",
   "metadata": {},
   "outputs": [
    {
     "name": "stdout",
     "output_type": "stream",
     "text": [
      "dict_values(['Yellow Submarine', 1966, False, 'The Beatles', 'Null', ['John Lennon', 'Paul McCartney', 'George   Harrison', 'Ringo Starr'], {'studio_name': 'Abbey Road Studios', 'location': 'London, England'}])\n"
     ]
    }
   ],
   "source": [
    "print(dict1.values())"
   ]
  },
  {
   "cell_type": "markdown",
   "id": "5e02be50",
   "metadata": {},
   "source": [
    "kemudian apabila ingin mengambil value yang spesifik, dapat dilakukan dengan menggunakan method .get(), sebagai berikut :"
   ]
  },
  {
   "cell_type": "code",
   "execution_count": 13,
   "id": "be7a2143",
   "metadata": {},
   "outputs": [
    {
     "name": "stdout",
     "output_type": "stream",
     "text": [
      "{'studio_name': 'Abbey Road Studios', 'location': 'London, England'}\n"
     ]
    }
   ],
   "source": [
    "# misal ingin mengambil value dari key = studio\n",
    "print(dict1.get('studio'))"
   ]
  },
  {
   "cell_type": "markdown",
   "id": "1d9cbb15",
   "metadata": {},
   "source": [
    "kalau kita lihat, terdapat dictionary dalam dictionary, untuk mengakses keynya, dapat dilakukan menggunakan stack method .get()"
   ]
  },
  {
   "cell_type": "code",
   "execution_count": 16,
   "id": "7c4508be",
   "metadata": {},
   "outputs": [
    {
     "name": "stdout",
     "output_type": "stream",
     "text": [
      "Abbey Road Studios\n"
     ]
    }
   ],
   "source": [
    "# misal ingin mengambil value dari key = studio, dan ingin mengambil value dari key = studio name\n",
    "print(dict1.get('studio').get('studio_name'))"
   ]
  },
  {
   "cell_type": "markdown",
   "id": "333cd911",
   "metadata": {},
   "source": [
    "## part 2"
   ]
  },
  {
   "cell_type": "markdown",
   "id": "5ef4f8bf",
   "metadata": {},
   "source": [
    "dictionary juga dapat di-merge lhoo, caranya gini :"
   ]
  },
  {
   "cell_type": "code",
   "execution_count": 9,
   "id": "e1c548c9",
   "metadata": {},
   "outputs": [
    {
     "name": "stdout",
     "output_type": "stream",
     "text": [
      "{'nama': ['ipul', 'stefa', 'coco', 'angel', 'dimas'], 'nilai': [85, 87, 89, 90, 88]}\n"
     ]
    }
   ],
   "source": [
    "a = {'nama' : ['ipul', 'stefa', 'coco', 'angel', 'dimas']}\n",
    "b = {'nilai' : [85, 87, 89, 90, 88]}\n",
    "\n",
    "# menggunakan metode **kwargs\n",
    "c = {**a, **b}\n",
    "print(c)"
   ]
  },
  {
   "cell_type": "markdown",
   "id": "6fcb1d1f",
   "metadata": {},
   "source": [
    "jangan lupa, urutan penempatan variabelnya mempengaruhi yaa, misal :"
   ]
  },
  {
   "cell_type": "code",
   "execution_count": 7,
   "id": "30694a38",
   "metadata": {},
   "outputs": [
    {
     "name": "stdout",
     "output_type": "stream",
     "text": [
      "{'nilai': [85, 87, 89, 90, 88], 'nama': ['ipul', 'stefa', 'coco', 'angel', 'dimas']}\n"
     ]
    }
   ],
   "source": [
    "c1 = {**b, **a}\n",
    "print(c1)"
   ]
  },
  {
   "cell_type": "code",
   "execution_count": 33,
   "id": "63aa12dc",
   "metadata": {},
   "outputs": [
    {
     "name": "stdout",
     "output_type": "stream",
     "text": [
      "menggunakan operator + : {'a': 1, 'b': 9999, 'c': 3}\n",
      "menggunakan operator | : {'c': 3, 'b': 9999, 'a': 1}\n"
     ]
    }
   ],
   "source": [
    "# menggunakan operator plus (+)\n",
    "d1={'a':1,'b':2}\n",
    "d2={'c':3,'b':9999}\n",
    "\n",
    "d3 = dict(list(d1.items()) + list(d2.items()))\n",
    "print('menggunakan operator + : {}'.format(d3))\n",
    "\n",
    "# menggunnakan operator union (|)\n",
    "print('menggunakan operator | : {}'.format(dict(d1.items() | d2.items())))"
   ]
  },
  {
   "cell_type": "markdown",
   "id": "0cdf09ff",
   "metadata": {},
   "source": [
    "perbedaan menggunakan operator plus dan union terletak pada urutan outputnya"
   ]
  },
  {
   "cell_type": "code",
   "execution_count": null,
   "id": "dc83b794",
   "metadata": {},
   "outputs": [],
   "source": []
  },
  {
   "cell_type": "code",
   "execution_count": null,
   "id": "5e80fc75",
   "metadata": {},
   "outputs": [],
   "source": []
  }
 ],
 "metadata": {
  "kernelspec": {
   "display_name": "Python 3",
   "language": "python",
   "name": "python3"
  },
  "language_info": {
   "codemirror_mode": {
    "name": "ipython",
    "version": 3
   },
   "file_extension": ".py",
   "mimetype": "text/x-python",
   "name": "python",
   "nbconvert_exporter": "python",
   "pygments_lexer": "ipython3",
   "version": "3.8.8"
  }
 },
 "nbformat": 4,
 "nbformat_minor": 5
}
