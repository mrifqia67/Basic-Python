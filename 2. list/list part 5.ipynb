{
 "cells": [
  {
   "cell_type": "markdown",
   "id": "5a4c2a72",
   "metadata": {},
   "source": [
    "### part 1"
   ]
  },
  {
   "cell_type": "markdown",
   "id": "2ca313f9",
   "metadata": {},
   "source": [
    "kalau kemarin kita bermain - main dengan dataframe, sekarang akan bermain dengan list. Yup, list ini sering banget digunain juga dalam analisis data. mungkin saya sharing materi mengenai listnya hanya sedikit saja"
   ]
  },
  {
   "cell_type": "code",
   "execution_count": 6,
   "id": "7b4f4ff5",
   "metadata": {},
   "outputs": [
    {
     "name": "stdout",
     "output_type": "stream",
     "text": [
      "['saya', 'suka', 'buah', 'apel']\n",
      "<class 'list'>\n",
      "4\n"
     ]
    }
   ],
   "source": [
    "list1 = ['saya' , 'suka', 'buah', 'apel']\n",
    "\n",
    "print(list1)\n",
    "print(type(list1))\n",
    "print(len(list1))"
   ]
  },
  {
   "cell_type": "markdown",
   "id": "7643b6b7",
   "metadata": {},
   "source": [
    "list tersebut memiliki 4 elemen data, yang dimulai dengan index 0"
   ]
  },
  {
   "cell_type": "code",
   "execution_count": 7,
   "id": "595afa79",
   "metadata": {},
   "outputs": [
    {
     "name": "stdout",
     "output_type": "stream",
     "text": [
      "buah\n"
     ]
    }
   ],
   "source": [
    "# misal data ke-3, maka untuk mengambil datanya menggunakan indeks ke-2\n",
    "print(list1[2])"
   ]
  },
  {
   "cell_type": "markdown",
   "id": "eb2a6565",
   "metadata": {},
   "source": [
    "untuk mengganti elemen/data pada list, dapat menggunakan cara berikut :"
   ]
  },
  {
   "cell_type": "code",
   "execution_count": 8,
   "id": "8b071c0a",
   "metadata": {},
   "outputs": [
    {
     "name": "stdout",
     "output_type": "stream",
     "text": [
      "['saya', 'suka', 'buah', 'manggis']\n"
     ]
    }
   ],
   "source": [
    "list1[3] = 'manggis'\n",
    "print(list1)"
   ]
  },
  {
   "cell_type": "markdown",
   "id": "12c913d2",
   "metadata": {},
   "source": [
    "antara list 1 dan yang lainnya dapat dijumlahkan atau digabungkan, seperti berikut :"
   ]
  },
  {
   "cell_type": "code",
   "execution_count": 13,
   "id": "f60c1951",
   "metadata": {},
   "outputs": [
    {
     "name": "stdout",
     "output_type": "stream",
     "text": [
      "['saya', 'suka', 'buah', 'manggis', 'adik', 'suka', 'buah', 'pisang']\n"
     ]
    }
   ],
   "source": [
    "list2 = ['adik', 'suka', 'buah', 'pisang']\n",
    "\n",
    "print(list1 + list2)"
   ]
  },
  {
   "cell_type": "markdown",
   "id": "201e5811",
   "metadata": {},
   "source": [
    "### part 2"
   ]
  },
  {
   "cell_type": "markdown",
   "id": "acdbbf91",
   "metadata": {},
   "source": [
    "kemudian, salah satu method yang penting dalam list yang suka digunakan terutama saat melakukan looping adalah .append(), fungsinya dia menyimpan hasil tersebut ke dalam suatu variabel dalam bentuk list kosong"
   ]
  },
  {
   "cell_type": "code",
   "execution_count": 24,
   "id": "e5d55348",
   "metadata": {},
   "outputs": [
    {
     "name": "stdout",
     "output_type": "stream",
     "text": [
      "1. pangkat duanya adalah 1\n",
      "2. pangkat duanya adalah 4\n",
      "3. pangkat duanya adalah 9\n",
      "4. pangkat duanya adalah 16\n",
      "5. pangkat duanya adalah 25\n",
      "6. pangkat duanya adalah 36\n",
      "7. pangkat duanya adalah 49\n",
      "8. pangkat duanya adalah 64\n",
      "9. pangkat duanya adalah 81\n"
     ]
    }
   ],
   "source": [
    "# tanpa append\n",
    "data1 = [1,2,3,4,5,6,7,8,9]\n",
    "for i, j in enumerate(data1):\n",
    "    print('{}. pangkat duanya adalah {}'.format(j, (i+1)**2))"
   ]
  },
  {
   "cell_type": "code",
   "execution_count": 26,
   "id": "ca99ec77",
   "metadata": {},
   "outputs": [
    {
     "name": "stdout",
     "output_type": "stream",
     "text": [
      "pangkat duanya adalah [1, 4, 9, 16, 25, 36, 49, 64, 81]\n"
     ]
    }
   ],
   "source": [
    "# dengan append\n",
    "data1 = [1,2,3,4,5,6,7,8,9]\n",
    "\n",
    "# membuat list kosong\n",
    "data2 = []\n",
    "for i in data1:\n",
    "    hasil = i**2\n",
    "    data2.append(hasil)\n",
    "    \n",
    "print('pangkat duanya adalah {}'.format(data2))"
   ]
  },
  {
   "cell_type": "markdown",
   "id": "02d5d518",
   "metadata": {},
   "source": [
    "append ini sangat berguna untuk data yang skalanya sangat besar"
   ]
  },
  {
   "cell_type": "markdown",
   "id": "6ba62c0d",
   "metadata": {},
   "source": [
    "### part 3"
   ]
  },
  {
   "cell_type": "markdown",
   "id": "b1ceeca6",
   "metadata": {},
   "source": [
    "selanjutnya, list juga dapat diinisialkan ke dalam variabel tertentu, seperti :"
   ]
  },
  {
   "cell_type": "code",
   "execution_count": 2,
   "id": "030c8460",
   "metadata": {},
   "outputs": [
    {
     "name": "stdout",
     "output_type": "stream",
     "text": [
      "apel\n",
      "jeruk\n",
      "melon\n",
      "['anggur', 'semangka']\n"
     ]
    }
   ],
   "source": [
    "nama_buah = ['apel', 'jeruk', 'melon', 'anggur', 'semangka']\n",
    "\n",
    "a, j, m, *yang_lain = nama_buah\n",
    "\n",
    "print(a)\n",
    "print(j)\n",
    "print(m)\n",
    "print(yang_lain)"
   ]
  },
  {
   "cell_type": "markdown",
   "id": "063754d6",
   "metadata": {},
   "source": [
    "kemudian ada cara untuk menyatukan list yang terpisah, misal :"
   ]
  },
  {
   "cell_type": "code",
   "execution_count": 1,
   "id": "bd81684e",
   "metadata": {},
   "outputs": [
    {
     "name": "stdout",
     "output_type": "stream",
     "text": [
      "warna : [['merah', 'putih'], ['hijau', 'biru'], ['putih', 'merah']]\n",
      "warna1 : ['merah', 'putih', 'hijau', 'biru', 'putih', 'merah']\n",
      "warna2 : ['merah', 'putih', 'hijau', 'biru', 'putih', 'merah']\n"
     ]
    }
   ],
   "source": [
    "warna = [['merah', 'putih'], ['hijau', 'biru'], ['putih', 'merah']]\n",
    "print('warna : {}'.format(warna))\n",
    "\n",
    "# menggunakan list comprehension\n",
    "warna_1 = [i for j in warna for i in j]\n",
    "print('warna1 : {}'.format(warna_1))\n",
    "\n",
    "# menggunakan looping\n",
    "warna_2 = []\n",
    "for i in warna:\n",
    "    warna_2.extend(i)\n",
    "    \n",
    "print('warna2 : {}'.format(warna_2))    "
   ]
  },
  {
   "cell_type": "markdown",
   "id": "8d4382e6",
   "metadata": {},
   "source": [
    "## part 4"
   ]
  },
  {
   "cell_type": "markdown",
   "id": "6a73cd90",
   "metadata": {},
   "source": [
    "oh iya, list juga dapat melakukan filtering data ya, berikut adalah contohnya :"
   ]
  },
  {
   "cell_type": "code",
   "execution_count": 1,
   "id": "9b8ab7ea",
   "metadata": {},
   "outputs": [
    {
     "name": "stdout",
     "output_type": "stream",
     "text": [
      "[98, 87, 85, 88, 81, 90, 99, 93, 90]\n"
     ]
    }
   ],
   "source": [
    "nilai = [80,78,98,68,45,87,85,88,80,81,90,99,93,90,70,75,74,77]\n",
    "\n",
    "# misal filter nilai yang lebih dari 80\n",
    "filter_nilai = [i for i in nilai if i > 80]\n",
    "print(filter_nilai)"
   ]
  },
  {
   "cell_type": "markdown",
   "id": "b01899ef",
   "metadata": {},
   "source": [
    "dalam hal ini, huruf i dapat diganti oleh huruf atau kata yang lain, selama penempatannya konsisten, maka tidak akan terjadi error"
   ]
  },
  {
   "cell_type": "markdown",
   "id": "ae2041e8",
   "metadata": {},
   "source": [
    "kemudian, apabila ingin mengkombinasikan dua buah list atau lebih, dapat menggunakan fungsi **zip()**"
   ]
  },
  {
   "cell_type": "code",
   "execution_count": 3,
   "id": "26af1b45",
   "metadata": {},
   "outputs": [
    {
     "name": "stdout",
     "output_type": "stream",
     "text": [
      "[('a', 1), ('b', 2), ('c', 3), ('d', 4)]\n"
     ]
    }
   ],
   "source": [
    "l1 = ['a', 'b', 'c', 'd']\n",
    "l2 = [1,2,3,4]\n",
    "\n",
    "l3 = zip(l1,l2)\n",
    "print(list(l3))"
   ]
  },
  {
   "cell_type": "markdown",
   "id": "5cf0e338",
   "metadata": {},
   "source": [
    "apabila ingin tahu count yang paling banyak dalam suatu list, maka dapat menggunakan fungsi berikut :"
   ]
  },
  {
   "cell_type": "code",
   "execution_count": 11,
   "id": "bdec84ac",
   "metadata": {},
   "outputs": [
    {
     "name": "stdout",
     "output_type": "stream",
     "text": [
      "maka kejadian yang paling banyak muncul adalah : heads\n"
     ]
    }
   ],
   "source": [
    "coin = ['tails', 'tails', 'heads', 'heads', 'tails', 'heads', 'heads', 'tails', 'heads', 'tails']\n",
    "items = set(coin)\n",
    "print('maka kejadian yang paling banyak muncul adalah : {}'.format(max(items, key = coin.count)))"
   ]
  },
  {
   "cell_type": "markdown",
   "id": "9555187d",
   "metadata": {},
   "source": [
    "## part 5"
   ]
  },
  {
   "cell_type": "markdown",
   "id": "2b5ead4f",
   "metadata": {},
   "source": [
    "dalam list juga dapat meremove data duplikat lhoo, begini caranya :"
   ]
  },
  {
   "cell_type": "code",
   "execution_count": 1,
   "id": "81b4068f",
   "metadata": {},
   "outputs": [
    {
     "name": "stdout",
     "output_type": "stream",
     "text": [
      "[1, 2, 3, 4, 5, 6, 7, 8, 9, 10]\n"
     ]
    }
   ],
   "source": [
    "list5 = [1,2,3,3,4,5,6,7,8,9,10]\n",
    "\n",
    "# terdapat data duplikat, yaitu nilai 4\n",
    "\n",
    "# menghapus data duplikat\n",
    "print(list(dict.fromkeys(list5)))"
   ]
  },
  {
   "cell_type": "markdown",
   "id": "ae425d3c",
   "metadata": {},
   "source": [
    "untuk menemukan data duplikatnya, dapat digunakan sintak berikut :"
   ]
  },
  {
   "cell_type": "code",
   "execution_count": 5,
   "id": "5169c064",
   "metadata": {},
   "outputs": [
    {
     "name": "stdout",
     "output_type": "stream",
     "text": [
      "[1, 4, 5]\n"
     ]
    }
   ],
   "source": [
    "# contoh 1\n",
    "ll1 = [1,2,3,4,4,5,5,6,1]\n",
    "ll2 = list(set([x for x in ll1 if ll1.count(x) > 1]))\n",
    "\n",
    "print(ll2)"
   ]
  },
  {
   "cell_type": "code",
   "execution_count": 7,
   "id": "95815221",
   "metadata": {},
   "outputs": [
    {
     "name": "stdout",
     "output_type": "stream",
     "text": [
      "['aku']\n"
     ]
    }
   ],
   "source": [
    "# contoh 2\n",
    "l3 = ['aku', 'aku', 'dapat', 'terbang', 'tinggi']\n",
    "l4 = list(set([i for i in l3 if l3.count(i) > 1]))\n",
    "\n",
    "print(l4)"
   ]
  },
  {
   "cell_type": "markdown",
   "id": "b221ffdf",
   "metadata": {},
   "source": [
    "dapat dilihat bahwa duplikat data dapat terjadi pada data teks ataupun numerik. huruf x pada list comprehension dapat diubah menjadi huruf lain, misalnya huruf i"
   ]
  },
  {
   "cell_type": "code",
   "execution_count": null,
   "id": "710f5a8e",
   "metadata": {},
   "outputs": [],
   "source": []
  }
 ],
 "metadata": {
  "kernelspec": {
   "display_name": "Python 3",
   "language": "python",
   "name": "python3"
  },
  "language_info": {
   "codemirror_mode": {
    "name": "ipython",
    "version": 3
   },
   "file_extension": ".py",
   "mimetype": "text/x-python",
   "name": "python",
   "nbconvert_exporter": "python",
   "pygments_lexer": "ipython3",
   "version": "3.8.8"
  }
 },
 "nbformat": 4,
 "nbformat_minor": 5
}
