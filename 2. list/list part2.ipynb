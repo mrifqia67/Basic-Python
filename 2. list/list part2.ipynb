{
 "cells": [
  {
   "cell_type": "markdown",
   "id": "5a4c2a72",
   "metadata": {},
   "source": [
    "### part 1"
   ]
  },
  {
   "cell_type": "markdown",
   "id": "2ca313f9",
   "metadata": {},
   "source": [
    "kalau kemarin kita bermain - main dengan dataframe, sekarang akan bermain dengan list. Yup, list ini sering banget digunain juga dalam analisis data. mungkin saya sharing materi mengenai listnya hanya sedikit saja"
   ]
  },
  {
   "cell_type": "code",
   "execution_count": 6,
   "id": "7b4f4ff5",
   "metadata": {},
   "outputs": [
    {
     "name": "stdout",
     "output_type": "stream",
     "text": [
      "['saya', 'suka', 'buah', 'apel']\n",
      "<class 'list'>\n",
      "4\n"
     ]
    }
   ],
   "source": [
    "list1 = ['saya' , 'suka', 'buah', 'apel']\n",
    "\n",
    "print(list1)\n",
    "print(type(list1))\n",
    "print(len(list1))"
   ]
  },
  {
   "cell_type": "markdown",
   "id": "7643b6b7",
   "metadata": {},
   "source": [
    "list tersebut memiliki 4 elemen data, yang dimulai dengan index 0"
   ]
  },
  {
   "cell_type": "code",
   "execution_count": 7,
   "id": "595afa79",
   "metadata": {},
   "outputs": [
    {
     "name": "stdout",
     "output_type": "stream",
     "text": [
      "buah\n"
     ]
    }
   ],
   "source": [
    "# misal data ke-3, maka untuk mengambil datanya menggunakan indeks ke-2\n",
    "print(list1[2])"
   ]
  },
  {
   "cell_type": "markdown",
   "id": "eb2a6565",
   "metadata": {},
   "source": [
    "untuk mengganti elemen/data pada list, dapat menggunakan cara berikut :"
   ]
  },
  {
   "cell_type": "code",
   "execution_count": 8,
   "id": "8b071c0a",
   "metadata": {},
   "outputs": [
    {
     "name": "stdout",
     "output_type": "stream",
     "text": [
      "['saya', 'suka', 'buah', 'manggis']\n"
     ]
    }
   ],
   "source": [
    "list1[3] = 'manggis'\n",
    "print(list1)"
   ]
  },
  {
   "cell_type": "markdown",
   "id": "12c913d2",
   "metadata": {},
   "source": [
    "antara list 1 dan yang lainnya dapat dijumlahkan atau digabungkan, seperti berikut :"
   ]
  },
  {
   "cell_type": "code",
   "execution_count": 13,
   "id": "f60c1951",
   "metadata": {},
   "outputs": [
    {
     "name": "stdout",
     "output_type": "stream",
     "text": [
      "['saya', 'suka', 'buah', 'manggis', 'adik', 'suka', 'buah', 'pisang']\n"
     ]
    }
   ],
   "source": [
    "list2 = ['adik', 'suka', 'buah', 'pisang']\n",
    "\n",
    "print(list1 + list2)"
   ]
  },
  {
   "cell_type": "markdown",
   "id": "acdbbf91",
   "metadata": {},
   "source": [
    "kemudian, salah satu method yang penting dalam list yang suka digunakan terutama saat melakukan looping adalah .append(), fungsinya dia menyimpan hasil tersebut ke dalam suatu variabel dalam bentuk list kosong"
   ]
  },
  {
   "cell_type": "code",
   "execution_count": 24,
   "id": "e5d55348",
   "metadata": {},
   "outputs": [
    {
     "name": "stdout",
     "output_type": "stream",
     "text": [
      "1. pangkat duanya adalah 1\n",
      "2. pangkat duanya adalah 4\n",
      "3. pangkat duanya adalah 9\n",
      "4. pangkat duanya adalah 16\n",
      "5. pangkat duanya adalah 25\n",
      "6. pangkat duanya adalah 36\n",
      "7. pangkat duanya adalah 49\n",
      "8. pangkat duanya adalah 64\n",
      "9. pangkat duanya adalah 81\n"
     ]
    }
   ],
   "source": [
    "# tanpa append\n",
    "data1 = [1,2,3,4,5,6,7,8,9]\n",
    "for i, j in enumerate(data1):\n",
    "    print('{}. pangkat duanya adalah {}'.format(j, (i+1)**2))"
   ]
  },
  {
   "cell_type": "code",
   "execution_count": 26,
   "id": "ca99ec77",
   "metadata": {},
   "outputs": [
    {
     "name": "stdout",
     "output_type": "stream",
     "text": [
      "pangkat duanya adalah [1, 4, 9, 16, 25, 36, 49, 64, 81]\n"
     ]
    }
   ],
   "source": [
    "# dengan append\n",
    "data1 = [1,2,3,4,5,6,7,8,9]\n",
    "\n",
    "# membuat list kosong\n",
    "data2 = []\n",
    "for i in data1:\n",
    "    hasil = i**2\n",
    "    data2.append(hasil)\n",
    "    \n",
    "print('pangkat duanya adalah {}'.format(data2))"
   ]
  },
  {
   "cell_type": "markdown",
   "id": "02d5d518",
   "metadata": {},
   "source": [
    "append ini sangat berguna untuk data yang skalanya sangat besar"
   ]
  },
  {
   "cell_type": "code",
   "execution_count": null,
   "id": "c55ebcc1",
   "metadata": {},
   "outputs": [],
   "source": []
  }
 ],
 "metadata": {
  "kernelspec": {
   "display_name": "Python 3",
   "language": "python",
   "name": "python3"
  },
  "language_info": {
   "codemirror_mode": {
    "name": "ipython",
    "version": 3
   },
   "file_extension": ".py",
   "mimetype": "text/x-python",
   "name": "python",
   "nbconvert_exporter": "python",
   "pygments_lexer": "ipython3",
   "version": "3.8.8"
  }
 },
 "nbformat": 4,
 "nbformat_minor": 5
}
